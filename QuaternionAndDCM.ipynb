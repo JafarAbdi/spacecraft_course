{
 "cells": [
  {
   "cell_type": "code",
   "execution_count": 1,
   "metadata": {
    "collapsed": true
   },
   "outputs": [],
   "source": [
    "import numpy as np\n"
   ]
  },
  {
   "cell_type": "code",
   "execution_count": 2,
   "metadata": {
    "collapsed": true
   },
   "outputs": [],
   "source": [
    "BN = np.array([[-0.87097, 0.45161, 0.19355],[-0.19355, -0.67742, 0.70968],[0.45161, 0.58065, 0.67742]])"
   ]
  },
  {
   "cell_type": "code",
   "execution_count": 3,
   "metadata": {
    "collapsed": true
   },
   "outputs": [],
   "source": [
    "wBN = np.array([[0.1],[0.2],[0.3]])"
   ]
  },
  {
   "cell_type": "code",
   "execution_count": 11,
   "metadata": {
    "collapsed": true
   },
   "outputs": [],
   "source": [
    "skew = np.cross(wBN.transpose(),np.eye(3))"
   ]
  },
  {
   "cell_type": "code",
   "execution_count": 12,
   "metadata": {},
   "outputs": [
    {
     "data": {
      "text/plain": [
       "array([[-0.148387, -0.319356,  0.07742 ],\n",
       "       [ 0.306452, -0.077418,  0.009677],\n",
       "       [-0.154839,  0.158064, -0.032258]])"
      ]
     },
     "execution_count": 12,
     "metadata": {},
     "output_type": "execute_result"
    }
   ],
   "source": [
    "np.dot(skew,BN)"
   ]
  },
  {
   "cell_type": "markdown",
   "metadata": {
    "collapsed": true
   },
   "source": [
    "# Quaternion to DCM (spacecraft-dynamics-kinematic course at coursera)"
   ]
  },
  {
   "cell_type": "code",
   "execution_count": 2,
   "metadata": {
    "collapsed": true
   },
   "outputs": [],
   "source": [
    "def QtoDCM(q):\n",
    "    q0 = q[0]\n",
    "    q1 = q[1]\n",
    "    q2 = q[2]\n",
    "    q3 = q[3]\n",
    "    return np.array([[q0**2 + q1**2 - q2**2 - q3**2,       2 * (q1 * q2 + q0 * q3),       2 * (q1 * q3 - q0 * q2)],\n",
    "                     [      2 * (q1 * q2 - q0 * q3), q0**2 - q1**2 + q2**2 - q3**2,       2 * (q2 * q3 + q0 * q1)],\n",
    "                     [      2 * (q1 * q3 + q0 * q2),       2 * (q2 * q3 - q0 * q1), q0**2 - q1**2 - q2**2 + q3**2]],dtype=np.float64)"
   ]
  },
  {
   "cell_type": "code",
   "execution_count": 3,
   "metadata": {
    "collapsed": true
   },
   "outputs": [],
   "source": [
    "q = np.array([0.235702, 0.471405, -0.471405, 0.707107])"
   ]
  },
  {
   "cell_type": "code",
   "execution_count": 4,
   "metadata": {},
   "outputs": [
    {
     "data": {
      "text/plain": [
       "array([[-0.44444488, -0.11111228,  0.88888975],\n",
       "       [-0.77777842, -0.44444488, -0.44444535],\n",
       "       [ 0.44444535, -0.88888975,  0.11111039]])"
      ]
     },
     "execution_count": 4,
     "metadata": {},
     "output_type": "execute_result"
    }
   ],
   "source": [
    "QtoDCM(q)"
   ]
  },
  {
   "cell_type": "code",
   "execution_count": 5,
   "metadata": {
    "collapsed": true
   },
   "outputs": [],
   "source": [
    "R = np.array([[-0.529403, -0.474115,  0.703525],\n",
    "              [-0.467056, -0.529403, -0.708231],\n",
    "              [ 0.708231, -0.703525, 0.0588291]])"
   ]
  },
  {
   "cell_type": "code",
   "execution_count": 25,
   "metadata": {
    "collapsed": true
   },
   "outputs": [],
   "source": [
    "def DCMtoQ(R):\n",
    "    #q  =  np.empty((4, ))\n",
    "    q0 = 0.5 * np.sqrt(R.trace() + 1)\n",
    "    q1 = (R[1,2] - R[2,1])/(4 * q0)\n",
    "    q2 = (R[2,0] - R[0,2])/(4 * q0)\n",
    "    q3 = (R[0,1] - R[1,0])/(4 * q0)\n",
    "    return np.array([q0, q1, q2, q3], dtype=np.float64)"
   ]
  },
  {
   "cell_type": "code",
   "execution_count": 16,
   "metadata": {},
   "outputs": [
    {
     "data": {
      "text/plain": [
       "array([ 0.00240312, -0.48957129,  0.48957129, -0.73435693])"
      ]
     },
     "execution_count": 16,
     "metadata": {},
     "output_type": "execute_result"
    }
   ],
   "source": [
    "DCMtoQ(R)"
   ]
  },
  {
   "cell_type": "code",
   "execution_count": 18,
   "metadata": {},
   "outputs": [
    {
     "data": {
      "text/plain": [
       "array([-0.00240312,  0.48957129, -0.48957129,  0.73435693])"
      ]
     },
     "execution_count": 18,
     "metadata": {},
     "output_type": "execute_result"
    }
   ],
   "source": [
    "DCMtoQ(R)"
   ]
  },
  {
   "cell_type": "code",
   "execution_count": 2,
   "metadata": {
    "collapsed": true
   },
   "outputs": [],
   "source": [
    "import transformations "
   ]
  },
  {
   "cell_type": "code",
   "execution_count": 30,
   "metadata": {
    "collapsed": true
   },
   "outputs": [],
   "source": [
    "R = transformations.euler_matrix(np.deg2rad(20), np.deg2rad(10), np.deg2rad(-10), axes='rzyx')\n",
    "R = R[:3, :3]"
   ]
  },
  {
   "cell_type": "code",
   "execution_count": 31,
   "metadata": {},
   "outputs": [
    {
     "data": {
      "text/plain": [
       "array([ 0.97600798,  0.10058188, -0.07042819, -0.17980985])"
      ]
     },
     "execution_count": 31,
     "metadata": {},
     "output_type": "execute_result"
    }
   ],
   "source": [
    "DCMtoQ(R)"
   ]
  },
  {
   "cell_type": "code",
   "execution_count": 40,
   "metadata": {
    "collapsed": true
   },
   "outputs": [],
   "source": [
    "QBN = np.array([0.774597, 0.258199, 0.516398, 0.258199])\n",
    "QBN = QBN/np.linalg.norm(QBN)\n",
    "QFB = np.array([0.359211, 0.898027, 0.179605, 0.179605])\n",
    "QFB = QFB/np.linalg.norm(QFB)"
   ]
  },
  {
   "cell_type": "code",
   "execution_count": 47,
   "metadata": {
    "collapsed": true
   },
   "outputs": [],
   "source": [
    "QFN = DCMtoQ(np.dot(QtoDCM(QFB), QtoDCM(QBN)))"
   ]
  },
  {
   "cell_type": "code",
   "execution_count": 48,
   "metadata": {
    "collapsed": true
   },
   "outputs": [],
   "source": [
    "QBN = np.array([-0.377964,0.755929,0.377964,0.377964])\n",
    "QBN = QBN/np.linalg.norm(QBN)\n",
    "QFN = np.array([0.359211,0.898027,0.179605,0.179605])\n",
    "QFN = QFN/np.linalg.norm(QFN)"
   ]
  },
  {
   "cell_type": "code",
   "execution_count": 49,
   "metadata": {
    "collapsed": true
   },
   "outputs": [],
   "source": [
    "QFB = DCMtoQ( np.dot( QtoDCM( QFB ), np.transpose( QtoDCM( QBN ) ) ) )"
   ]
  },
  {
   "cell_type": "code",
   "execution_count": 50,
   "metadata": {},
   "outputs": [
    {
     "data": {
      "text/plain": [
       "array([  6.78844289e-01,  -6.10959902e-01,  -4.07306309e-01,\n",
       "         1.98359004e-07])"
      ]
     },
     "execution_count": 50,
     "metadata": {},
     "output_type": "execute_result"
    }
   ],
   "source": [
    "QFB"
   ]
  },
  {
   "cell_type": "markdown",
   "metadata": {},
   "source": [
    "# Book 3.32 "
   ]
  },
  {
   "cell_type": "code",
   "execution_count": 104,
   "metadata": {
    "collapsed": true
   },
   "outputs": [],
   "source": [
    "%matplotlib inline\n",
    "import matplotlib\n",
    "import matplotlib.pyplot as plt"
   ]
  },
  {
   "cell_type": "code",
   "execution_count": 105,
   "metadata": {
    "collapsed": true
   },
   "outputs": [],
   "source": [
    "import scipy.integrate as integrate"
   ]
  },
  {
   "cell_type": "code",
   "execution_count": 106,
   "metadata": {
    "collapsed": true
   },
   "outputs": [],
   "source": [
    "matplotlib.rcParams['figure.figsize'] = (18,10)"
   ]
  },
  {
   "cell_type": "code",
   "execution_count": 108,
   "metadata": {
    "collapsed": true
   },
   "outputs": [],
   "source": [
    "# 10 = 0.5 * 20\n",
    "def rot(y, t):\n",
    "    q0, q1, q2, q3 = y\n",
    "    dydt =  [np.deg2rad(10) * (                      - np.sin(0.1 * t) * q1 -            0.01 * q2 - np.cos(0.1 * t) * q3),\n",
    "             np.deg2rad(10) * ( np.sin(0.1 * t) * q0                        + np.cos(0.1 * t) * q2 -            0.01 * q3),\n",
    "             np.deg2rad(10) * (            0.01 * q0 - np.cos(0.1 * t) * q1                        + np.sin(0.1 * t) * q3),\n",
    "             np.deg2rad(10) * ( np.cos(0.1 * t) * q0 +            0.01 * q1 - np.sin(0.1 * t) * q2                        )]\n",
    "    return dydt"
   ]
  },
  {
   "cell_type": "code",
   "execution_count": 109,
   "metadata": {
    "collapsed": true
   },
   "outputs": [],
   "source": [
    "y0 = [0.408248, 0., 0.408248, 0.816497]"
   ]
  },
  {
   "cell_type": "code",
   "execution_count": 113,
   "metadata": {
    "collapsed": true
   },
   "outputs": [],
   "source": [
    "t = np.linspace(0, 1000, 350)"
   ]
  },
  {
   "cell_type": "code",
   "execution_count": 114,
   "metadata": {
    "collapsed": true
   },
   "outputs": [],
   "source": [
    "sol = integrate.odeint(rot, y0, t)"
   ]
  },
  {
   "cell_type": "code",
   "execution_count": 115,
   "metadata": {},
   "outputs": [
    {
     "data": {
      "text/plain": [
       "[<matplotlib.lines.Line2D at 0x7fb0fc2846a0>,\n",
       " <matplotlib.lines.Line2D at 0x7fb0fc284978>,\n",
       " <matplotlib.lines.Line2D at 0x7fb0fc289470>,\n",
       " <matplotlib.lines.Line2D at 0x7fb0fc289e48>]"
      ]
     },
     "execution_count": 115,
     "metadata": {},
     "output_type": "execute_result"
    },
    {
     "data": {
      "image/png": "[encoded data removed]",
      "text/plain": [
       "<matplotlib.figure.Figure at 0x7fb0fc31e630>"
      ]
     },
     "metadata": {},
     "output_type": "display_data"
    }
   ],
   "source": [
    "plt.plot(t, sol[:,0], t, sol[:,1], t, sol[:,2], t, sol[:,3])"
   ]
  },
  {
   "cell_type": "code",
   "execution_count": 95,
   "metadata": {
    "collapsed": true
   },
   "outputs": [],
   "source": [
    "R = transformations.euler_matrix(np.deg2rad(20), np.deg2rad(10), np.deg2rad(-10), axes='rzyx')"
   ]
  },
  {
   "cell_type": "code",
   "execution_count": 96,
   "metadata": {},
   "outputs": [
    {
     "data": {
      "text/plain": [
       "array([ 40.64234205,  35.53134776, -36.05238873])"
      ]
     },
     "execution_count": 96,
     "metadata": {},
     "output_type": "execute_result"
    }
   ],
   "source": [
    "transformations.euler_from_matrix(R, axes='rzxz')"
   ]
  },
  {
   "cell_type": "markdown",
   "metadata": {},
   "source": [
    "# Quiz:2.8 "
   ]
  },
  {
   "cell_type": "code",
   "execution_count": 103,
   "metadata": {},
   "outputs": [
    {
     "data": {
      "text/plain": [
       "array([ 13.22381821,  16.36834338,  23.61762825])"
      ]
     },
     "execution_count": 103,
     "metadata": {},
     "output_type": "execute_result"
    }
   ],
   "source": [
    "RNB = transformations.euler_matrix(np.deg2rad(10), np.deg2rad(20), np.deg2rad(30), axes='rzyx')\n",
    "RNR = transformations.euler_matrix(np.deg2rad(-5),  np.deg2rad(5),   np.deg2rad(5), axes='rzyx')\n",
    "RRB = np.dot(np.linalg.inv(RNR),RNB)\n",
    "np.rad2deg(transformations.euler_from_matrix(RRB, axes='rzyx'))"
   ]
  },
  {
   "cell_type": "markdown",
   "metadata": {},
   "source": [
    "# ------------------------------------- "
   ]
  },
  {
   "cell_type": "code",
   "execution_count": 24,
   "metadata": {
    "collapsed": true
   },
   "outputs": [],
   "source": [
    "from sympy import *"
   ]
  },
  {
   "cell_type": "code",
   "execution_count": 82,
   "metadata": {
    "collapsed": true
   },
   "outputs": [],
   "source": [
    "q1, q2, q3 = sympy.symbols('q1:4')"
   ]
  },
  {
   "cell_type": "code",
   "execution_count": 85,
   "metadata": {
    "collapsed": true
   },
   "outputs": [],
   "source": [
    "R1 = sympy.rot_axis2(q1)\n",
    "R2 = sympy.rot_axis3(q2)\n",
    "R3 = sympy.rot_axis2(q3)"
   ]
  },
  {
   "cell_type": "code",
   "execution_count": 86,
   "metadata": {},
   "outputs": [
    {
     "data": {
      "text/plain": [
       "Matrix([\n",
       "[-sin(q1)*sin(q3) + cos(q1)*cos(q2)*cos(q3), -sin(q2)*cos(q3),  sin(q1)*cos(q2)*cos(q3) + sin(q3)*cos(q1)],\n",
       "[                           sin(q2)*cos(q1),          cos(q2),                            sin(q1)*sin(q2)],\n",
       "[-sin(q1)*cos(q3) - sin(q3)*cos(q1)*cos(q2),  sin(q2)*sin(q3), -sin(q1)*sin(q3)*cos(q2) + cos(q1)*cos(q3)]])"
      ]
     },
     "execution_count": 86,
     "metadata": {},
     "output_type": "execute_result"
    }
   ],
   "source": [
    "(R1 * R2 * R3).T"
   ]
  },
  {
   "cell_type": "code",
   "execution_count": 26,
   "metadata": {},
   "outputs": [],
   "source": [
    "L, r = symbols('L r')"
   ]
  },
  {
   "cell_type": "code",
   "execution_count": 87,
   "metadata": {},
   "outputs": [],
   "source": [
    "R1 = Matrix([[cos(q1), -sin(q1), 0, 0],\n",
    "             [sin(q1),  cos(q1), 0, 0],\n",
    "             [      0,        0, 1, 0],\n",
    "             [      0,        0, 0, 1]])"
   ]
  },
  {
   "cell_type": "code",
   "execution_count": 88,
   "metadata": {
    "collapsed": true
   },
   "outputs": [],
   "source": [
    "trans = Matrix([[1, 0, 0, L],\n",
    "                [0, 1, 0, 0],\n",
    "                [0, 0, 1, r],\n",
    "                [0, 0, 0, 1]])"
   ]
  },
  {
   "cell_type": "code",
   "execution_count": 89,
   "metadata": {
    "collapsed": true
   },
   "outputs": [],
   "source": [
    "q2 = (q1 * L)/r\n",
    "R2 = Matrix([[1,       0,        0, 0],\n",
    "             [0, cos(q2), -sin(q2), 0],\n",
    "             [0, sin(q2),  cos(q2), 0],\n",
    "             [0,       0,        0, 1]])"
   ]
  },
  {
   "cell_type": "code",
   "execution_count": 90,
   "metadata": {},
   "outputs": [],
   "source": [
    "R = (R1 * trans * R2)"
   ]
  },
  {
   "cell_type": "code",
   "execution_count": 79,
   "metadata": {},
   "outputs": [
    {
     "data": {
      "text/plain": [
       "Matrix([\n",
       "[sin(q1)*sin(L*q1/r) - sin(q1)*cos(L*q1/r) + 2*cos(q1)],\n",
       "[2*sin(q1) - sin(L*q1/r)*cos(q1) + cos(q1)*cos(L*q1/r)],\n",
       "[                            sin(L*q1/r) + cos(L*q1/r)]])"
      ]
     },
     "execution_count": 79,
     "metadata": {},
     "output_type": "execute_result"
    }
   ],
   "source": [
    "R[:3, :3] * Matrix([[2],[1],[1]])"
   ]
  },
  {
   "cell_type": "code",
   "execution_count": 92,
   "metadata": {},
   "outputs": [
    {
     "data": {
      "text/plain": [
       "Matrix([\n",
       "[cos(q1), -sin(q1)*cos(L*q1/r),  sin(q1)*sin(L*q1/r)],\n",
       "[sin(q1),  cos(q1)*cos(L*q1/r), -sin(L*q1/r)*cos(q1)],\n",
       "[      0,          sin(L*q1/r),          cos(L*q1/r)]])"
      ]
     },
     "execution_count": 92,
     "metadata": {},
     "output_type": "execute_result"
    }
   ],
   "source": [
    "R[:3, :3]"
   ]
  },
  {
   "cell_type": "code",
   "execution_count": null,
   "metadata": {
    "collapsed": true
   },
   "outputs": [],
   "source": []
  }
 ],
 "metadata": {
  "kernelspec": {
   "display_name": "Python 3",
   "language": "python",
   "name": "python3"
  },
  "language_info": {
   "codemirror_mode": {
    "name": "ipython",
    "version": 3
   },
   "file_extension": ".py",
   "mimetype": "text/x-python",
   "name": "python",
   "nbconvert_exporter": "python",
   "pygments_lexer": "ipython3",
   "version": "3.5.3"
  },
  "widgets": {
   "state": {},
   "version": "1.1.2"
  }
 },
 "nbformat": 4,
 "nbformat_minor": 2
}
