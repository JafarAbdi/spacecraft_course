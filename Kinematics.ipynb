{
 "cells": [
  {
   "cell_type": "code",
   "execution_count": 1,
   "metadata": {
    "collapsed": true
   },
   "outputs": [],
   "source": [
    "%matplotlib inline\n",
    "import numpy as np\n",
    "import matplotlib\n",
    "import matplotlib.pyplot as plt\n",
    "from scipy.integrate import *\n",
    "from sympy import *\n",
    "import transformations \n",
    "import scipy\n",
    "matplotlib.rcParams['figure.figsize'] = (18,10)"
   ]
  },
  {
   "cell_type": "code",
   "execution_count": 4,
   "metadata": {
    "collapsed": true
   },
   "outputs": [],
   "source": [
    "BN = np.array([[-0.87097, 0.45161, 0.19355],[-0.19355, -0.67742, 0.70968],[0.45161, 0.58065, 0.67742]])"
   ]
  },
  {
   "cell_type": "code",
   "execution_count": 5,
   "metadata": {
    "collapsed": true
   },
   "outputs": [],
   "source": [
    "wBN = np.array([[0.1],[0.2],[0.3]])"
   ]
  },
  {
   "cell_type": "code",
   "execution_count": 6,
   "metadata": {
    "collapsed": true
   },
   "outputs": [],
   "source": [
    "skew = np.cross(wBN.transpose(),np.eye(3))"
   ]
  },
  {
   "cell_type": "code",
   "execution_count": 7,
   "metadata": {},
   "outputs": [
    {
     "data": {
      "text/plain": [
       "array([[-0.148387, -0.319356,  0.07742 ],\n",
       "       [ 0.306452, -0.077418,  0.009677],\n",
       "       [-0.154839,  0.158064, -0.032258]])"
      ]
     },
     "execution_count": 7,
     "metadata": {},
     "output_type": "execute_result"
    }
   ],
   "source": [
    "np.dot(skew,BN)"
   ]
  },
  {
   "cell_type": "markdown",
   "metadata": {
    "collapsed": true
   },
   "source": [
    "# Quaternion to DCM (spacecraft-dynamics-kinematic course at coursera)"
   ]
  },
  {
   "cell_type": "code",
   "execution_count": 56,
   "metadata": {
    "collapsed": true
   },
   "outputs": [],
   "source": [
    "def QtoDCM(q):\n",
    "    q0 = q[0]\n",
    "    q1 = q[1]\n",
    "    q2 = q[2]\n",
    "    q3 = q[3]\n",
    "    return np.array([[q0**2 + q1**2 - q2**2 - q3**2,       2 * (q1 * q2 + q0 * q3),       2 * (q1 * q3 - q0 * q2)],\n",
    "                     [      2 * (q1 * q2 - q0 * q3), q0**2 - q1**2 + q2**2 - q3**2,       2 * (q2 * q3 + q0 * q1)],\n",
    "                     [      2 * (q1 * q3 + q0 * q2),       2 * (q2 * q3 - q0 * q1), q0**2 - q1**2 - q2**2 + q3**2]],dtype=np.float64)"
   ]
  },
  {
   "cell_type": "code",
   "execution_count": 9,
   "metadata": {
    "collapsed": true
   },
   "outputs": [],
   "source": [
    "q = np.array([0.235702, 0.471405, -0.471405, 0.707107])"
   ]
  },
  {
   "cell_type": "code",
   "execution_count": 10,
   "metadata": {},
   "outputs": [
    {
     "data": {
      "text/plain": [
       "array([[-0.44444488, -0.11111228,  0.88888975],\n",
       "       [-0.77777842, -0.44444488, -0.44444535],\n",
       "       [ 0.44444535, -0.88888975,  0.11111039]])"
      ]
     },
     "execution_count": 10,
     "metadata": {},
     "output_type": "execute_result"
    }
   ],
   "source": [
    "QtoDCM(q)"
   ]
  },
  {
   "cell_type": "code",
   "execution_count": 11,
   "metadata": {
    "collapsed": true
   },
   "outputs": [],
   "source": [
    "R = np.array([[-0.529403, -0.474115,  0.703525],\n",
    "              [-0.467056, -0.529403, -0.708231],\n",
    "              [ 0.708231, -0.703525, 0.0588291]])"
   ]
  },
  {
   "cell_type": "code",
   "execution_count": 12,
   "metadata": {
    "collapsed": true
   },
   "outputs": [],
   "source": [
    "def DCMtoQ(R):\n",
    "    #q  =  np.empty((4, ))\n",
    "    q0 = 0.5 * np.sqrt(R.trace() + 1)\n",
    "    q1 = (R[1,2] - R[2,1])/(4 * q0)\n",
    "    q2 = (R[2,0] - R[0,2])/(4 * q0)\n",
    "    q3 = (R[0,1] - R[1,0])/(4 * q0)\n",
    "    return np.array([q0, q1, q2, q3], dtype=np.float64)"
   ]
  },
  {
   "cell_type": "code",
   "execution_count": 13,
   "metadata": {},
   "outputs": [
    {
     "data": {
      "text/plain": [
       "array([ 0.00240312, -0.48957129,  0.48957129, -0.73435693])"
      ]
     },
     "execution_count": 13,
     "metadata": {},
     "output_type": "execute_result"
    }
   ],
   "source": [
    "DCMtoQ(R)"
   ]
  },
  {
   "cell_type": "code",
   "execution_count": 14,
   "metadata": {},
   "outputs": [
    {
     "data": {
      "text/plain": [
       "array([ 0.00240312, -0.48957129,  0.48957129, -0.73435693])"
      ]
     },
     "execution_count": 14,
     "metadata": {},
     "output_type": "execute_result"
    }
   ],
   "source": [
    "DCMtoQ(R)"
   ]
  },
  {
   "cell_type": "code",
   "execution_count": 15,
   "metadata": {
    "collapsed": true
   },
   "outputs": [],
   "source": [
    "R = transformations.euler_matrix(np.deg2rad(20), np.deg2rad(10), np.deg2rad(-10), axes='rzyx')\n",
    "R = R[:3, :3]"
   ]
  },
  {
   "cell_type": "code",
   "execution_count": 16,
   "metadata": {},
   "outputs": [
    {
     "data": {
      "text/plain": [
       "array([ 0.97600798,  0.10058188, -0.07042819, -0.17980985])"
      ]
     },
     "execution_count": 16,
     "metadata": {},
     "output_type": "execute_result"
    }
   ],
   "source": [
    "DCMtoQ(R)"
   ]
  },
  {
   "cell_type": "code",
   "execution_count": 17,
   "metadata": {
    "collapsed": true
   },
   "outputs": [],
   "source": [
    "QBN = np.array([0.774597, 0.258199, 0.516398, 0.258199])\n",
    "QBN = QBN/np.linalg.norm(QBN)\n",
    "QFB = np.array([0.359211, 0.898027, 0.179605, 0.179605])\n",
    "QFB = QFB/np.linalg.norm(QFB)"
   ]
  },
  {
   "cell_type": "code",
   "execution_count": 18,
   "metadata": {
    "collapsed": true
   },
   "outputs": [],
   "source": [
    "QFN = DCMtoQ(np.dot(QtoDCM(QFB), QtoDCM(QBN)))"
   ]
  },
  {
   "cell_type": "code",
   "execution_count": 19,
   "metadata": {
    "collapsed": true
   },
   "outputs": [],
   "source": [
    "QBN = np.array([-0.377964,0.755929,0.377964,0.377964])\n",
    "QBN = QBN/np.linalg.norm(QBN)\n",
    "QFN = np.array([0.359211,0.898027,0.179605,0.179605])\n",
    "QFN = QFN/np.linalg.norm(QFN)"
   ]
  },
  {
   "cell_type": "code",
   "execution_count": 20,
   "metadata": {
    "collapsed": true
   },
   "outputs": [],
   "source": [
    "QFB = DCMtoQ( np.dot( QtoDCM( QFB ), np.transpose( QtoDCM( QBN ) ) ) )"
   ]
  },
  {
   "cell_type": "code",
   "execution_count": 21,
   "metadata": {},
   "outputs": [
    {
     "data": {
      "text/plain": [
       "array([  6.78844289e-01,  -6.10959902e-01,  -4.07306309e-01,\n",
       "         1.98359004e-07])"
      ]
     },
     "execution_count": 21,
     "metadata": {},
     "output_type": "execute_result"
    }
   ],
   "source": [
    "QFB"
   ]
  },
  {
   "cell_type": "markdown",
   "metadata": {},
   "source": [
    "# Book 3.32 "
   ]
  },
  {
   "cell_type": "code",
   "execution_count": null,
   "metadata": {
    "collapsed": true
   },
   "outputs": [],
   "source": []
  },
  {
   "cell_type": "code",
   "execution_count": 22,
   "metadata": {
    "collapsed": true
   },
   "outputs": [],
   "source": [
    "# 10 = 0.5 * 20\n",
    "def rot(y, t):\n",
    "    q0, q1, q2, q3 = y\n",
    "    dydt =  [np.deg2rad(10) * (                      - np.sin(0.1 * t) * q1 -            0.01 * q2 - np.cos(0.1 * t) * q3),\n",
    "             np.deg2rad(10) * ( np.sin(0.1 * t) * q0                        + np.cos(0.1 * t) * q2 -            0.01 * q3),\n",
    "             np.deg2rad(10) * (            0.01 * q0 - np.cos(0.1 * t) * q1                        + np.sin(0.1 * t) * q3),\n",
    "             np.deg2rad(10) * ( np.cos(0.1 * t) * q0 +            0.01 * q1 - np.sin(0.1 * t) * q2                        )]\n",
    "    return dydt"
   ]
  },
  {
   "cell_type": "code",
   "execution_count": 23,
   "metadata": {
    "collapsed": true
   },
   "outputs": [],
   "source": [
    "y0 = [0.408248, 0., 0.408248, 0.816497]"
   ]
  },
  {
   "cell_type": "code",
   "execution_count": 24,
   "metadata": {
    "collapsed": true
   },
   "outputs": [],
   "source": [
    "t = np.linspace(0, 60, 350)"
   ]
  },
  {
   "cell_type": "code",
   "execution_count": 25,
   "metadata": {
    "collapsed": true
   },
   "outputs": [],
   "source": [
    "sol = odeint(rot, y0, t)"
   ]
  },
  {
   "cell_type": "code",
   "execution_count": 26,
   "metadata": {},
   "outputs": [
    {
     "data": {
      "text/plain": [
       "[<matplotlib.lines.Line2D at 0x7f9366b202d0>,\n",
       " <matplotlib.lines.Line2D at 0x7f9366b204d0>,\n",
       " <matplotlib.lines.Line2D at 0x7f9366b20b90>,\n",
       " <matplotlib.lines.Line2D at 0x7f9366b30210>]"
      ]
     },
     "execution_count": 26,
     "metadata": {},
     "output_type": "execute_result"
    },
    {
     "data": {
      "image/png": "[encoded data removed]",
      "text/plain": [
       "<matplotlib.figure.Figure at 0x7f9368c51e90>"
      ]
     },
     "metadata": {},
     "output_type": "display_data"
    }
   ],
   "source": [
    "plt.plot(t, sol[:,0], t, sol[:,1], t, sol[:,2], t, sol[:,3])"
   ]
  },
  {
   "cell_type": "markdown",
   "metadata": {},
   "source": [
    "# Quiz:2.7 "
   ]
  },
  {
   "cell_type": "code",
   "execution_count": 27,
   "metadata": {
    "collapsed": true
   },
   "outputs": [],
   "source": [
    "R = transformations.euler_matrix(np.deg2rad(20), np.deg2rad(10), np.deg2rad(-10), axes='rzyx')"
   ]
  },
  {
   "cell_type": "code",
   "execution_count": 28,
   "metadata": {},
   "outputs": [
    {
     "data": {
      "text/plain": [
       "(2.7129144573598323, 0.24619691677893205, -2.348540373423724)"
      ]
     },
     "execution_count": 28,
     "metadata": {},
     "output_type": "execute_result"
    }
   ],
   "source": [
    "transformations.euler_from_matrix(R, axes='rzxz')"
   ]
  },
  {
   "cell_type": "code",
   "execution_count": 29,
   "metadata": {
    "collapsed": true
   },
   "outputs": [],
   "source": [
    "q1, q2, q3 = symbols('q1:4')"
   ]
  },
  {
   "cell_type": "code",
   "execution_count": 30,
   "metadata": {
    "collapsed": true
   },
   "outputs": [],
   "source": [
    "R1 = rot_axis2(-q1)\n",
    "R2 = rot_axis3(-q2)\n",
    "R3 = rot_axis2(-q3)"
   ]
  },
  {
   "cell_type": "code",
   "execution_count": 31,
   "metadata": {},
   "outputs": [
    {
     "data": {
      "text/plain": [
       "Matrix([\n",
       "[-sin(q1)*sin(q3) + cos(q1)*cos(q2)*cos(q3), -sin(q2)*cos(q1),  sin(q1)*cos(q3) + sin(q3)*cos(q1)*cos(q2)],\n",
       "[                           sin(q2)*cos(q3),          cos(q2),                            sin(q2)*sin(q3)],\n",
       "[-sin(q1)*cos(q2)*cos(q3) - sin(q3)*cos(q1),  sin(q1)*sin(q2), -sin(q1)*sin(q3)*cos(q2) + cos(q1)*cos(q3)]])"
      ]
     },
     "execution_count": 31,
     "metadata": {},
     "output_type": "execute_result"
    }
   ],
   "source": [
    "(R1 * R2 * R3)"
   ]
  },
  {
   "cell_type": "code",
   "execution_count": 32,
   "metadata": {
    "collapsed": true
   },
   "outputs": [],
   "source": [
    "L, r = symbols('L r')"
   ]
  },
  {
   "cell_type": "code",
   "execution_count": 33,
   "metadata": {
    "collapsed": true
   },
   "outputs": [],
   "source": [
    "R1 = Matrix([[cos(q1), -sin(q1), 0, 0],\n",
    "             [sin(q1),  cos(q1), 0, 0],\n",
    "             [      0,        0, 1, 0],\n",
    "             [      0,        0, 0, 1]])"
   ]
  },
  {
   "cell_type": "code",
   "execution_count": 34,
   "metadata": {
    "collapsed": true
   },
   "outputs": [],
   "source": [
    "trans = Matrix([[1, 0, 0, L],\n",
    "                [0, 1, 0, 0],\n",
    "                [0, 0, 1, r],\n",
    "                [0, 0, 0, 1]])"
   ]
  },
  {
   "cell_type": "code",
   "execution_count": 35,
   "metadata": {
    "collapsed": true
   },
   "outputs": [],
   "source": [
    "q2 = (q1 * L)/r\n",
    "R2 = Matrix([[1,       0,        0, 0],\n",
    "             [0, cos(q2), -sin(q2), 0],\n",
    "             [0, sin(q2),  cos(q2), 0],\n",
    "             [0,       0,        0, 1]])"
   ]
  },
  {
   "cell_type": "code",
   "execution_count": 36,
   "metadata": {
    "collapsed": true
   },
   "outputs": [],
   "source": [
    "R = (R1 * trans * R2)"
   ]
  },
  {
   "cell_type": "code",
   "execution_count": 37,
   "metadata": {},
   "outputs": [
    {
     "data": {
      "text/plain": [
       "Matrix([\n",
       "[             cos(q1),              sin(q1),           0],\n",
       "[-sin(q1)*cos(L*q1/r),  cos(q1)*cos(L*q1/r), sin(L*q1/r)],\n",
       "[ sin(q1)*sin(L*q1/r), -sin(L*q1/r)*cos(q1), cos(L*q1/r)]])"
      ]
     },
     "execution_count": 37,
     "metadata": {},
     "output_type": "execute_result"
    }
   ],
   "source": [
    "R[:3, :3].T"
   ]
  },
  {
   "cell_type": "code",
   "execution_count": 38,
   "metadata": {},
   "outputs": [
    {
     "data": {
      "text/plain": [
       "Matrix([\n",
       "[sin(q1)*sin(L*q1/r) - sin(q1)*cos(L*q1/r) + 2*cos(q1)],\n",
       "[2*sin(q1) - sin(L*q1/r)*cos(q1) + cos(q1)*cos(L*q1/r)],\n",
       "[                            sin(L*q1/r) + cos(L*q1/r)]])"
      ]
     },
     "execution_count": 38,
     "metadata": {},
     "output_type": "execute_result"
    }
   ],
   "source": [
    "R[:3, :3] * Matrix([[2],[1],[1]])"
   ]
  },
  {
   "cell_type": "code",
   "execution_count": 39,
   "metadata": {},
   "outputs": [
    {
     "data": {
      "text/plain": [
       "Matrix([\n",
       "[cos(q1), -sin(q1)*cos(L*q1/r),  sin(q1)*sin(L*q1/r)],\n",
       "[sin(q1),  cos(q1)*cos(L*q1/r), -sin(L*q1/r)*cos(q1)],\n",
       "[      0,          sin(L*q1/r),          cos(L*q1/r)]])"
      ]
     },
     "execution_count": 39,
     "metadata": {},
     "output_type": "execute_result"
    }
   ],
   "source": [
    "R[:3, :3]"
   ]
  },
  {
   "cell_type": "code",
   "execution_count": 73,
   "metadata": {
    "collapsed": true
   },
   "outputs": [],
   "source": [
    "# lazy guy's way to write skew function :D\n",
    "def skew(v):\n",
    "    return np.cross(np.eye(3), v)"
   ]
  },
  {
   "cell_type": "code",
   "execution_count": 41,
   "metadata": {
    "collapsed": true
   },
   "outputs": [],
   "source": [
    "w = skew([1, 2, 3])"
   ]
  },
  {
   "cell_type": "code",
   "execution_count": 42,
   "metadata": {},
   "outputs": [
    {
     "data": {
      "text/plain": [
       "array([ 0.,  0.,  0.])"
      ]
     },
     "execution_count": 42,
     "metadata": {},
     "output_type": "execute_result"
    }
   ],
   "source": [
    "np.dot(w,[1, 2, 3])"
   ]
  },
  {
   "cell_type": "markdown",
   "metadata": {},
   "source": [
    "# Quiz:2.8 "
   ]
  },
  {
   "cell_type": "code",
   "execution_count": 43,
   "metadata": {},
   "outputs": [
    {
     "data": {
      "text/plain": [
       "array([ 13.22381821,  16.36834338,  23.61762825])"
      ]
     },
     "execution_count": 43,
     "metadata": {},
     "output_type": "execute_result"
    }
   ],
   "source": [
    "RNB = transformations.euler_matrix(np.deg2rad(10), np.deg2rad(20), np.deg2rad(30), axes='rzyx')\n",
    "RNR = transformations.euler_matrix(np.deg2rad(-5),  np.deg2rad(5),   np.deg2rad(5), axes='rzyx')\n",
    "RRB = np.dot(np.linalg.inv(RNR),RNB)\n",
    "np.rad2deg(transformations.euler_from_matrix(RRB, axes='rzyx'))"
   ]
  },
  {
   "cell_type": "markdown",
   "metadata": {},
   "source": [
    "# Quiz:2.(11,12) "
   ]
  },
  {
   "cell_type": "code",
   "execution_count": 91,
   "metadata": {
    "collapsed": true
   },
   "outputs": [],
   "source": [
    "def CRPtoDCM(q):\n",
    "    q1 = q[0]\n",
    "    q2 = q[1]\n",
    "    q3 = q[2]\n",
    "    p_norm = np.linalg.norm(q)\n",
    "    return (1/(1 + p_norm)) * np.array([[1 + q1**2 - q2**2 - q3**2,        2 * (q1 * q2 + q3),        2 * (q1 * q3 - q2)],\n",
    "                                        [       2 * (q2 * q1 - q3), 1 - q1**2 + q2**2 - q3**2,        2 * (q2 * q3 + q1)],\n",
    "                                        [       2 * (q3 * q1 + q2),        2 * (q3 * q2 - q1), 1 - q1**2 - q2**2 + q3**2]])"
   ]
  },
  {
   "cell_type": "code",
   "execution_count": 45,
   "metadata": {
    "collapsed": true
   },
   "outputs": [],
   "source": [
    "q = [.1, .2, .3]"
   ]
  },
  {
   "cell_type": "code",
   "execution_count": 46,
   "metadata": {},
   "outputs": [
    {
     "data": {
      "text/plain": [
       "array([[ 0.64038855,  0.46573712, -0.24742285],\n",
       "       [-0.40751998,  0.6840514 ,  0.23286856],\n",
       "       [ 0.33474856, -0.05821714,  0.75682283]])"
      ]
     },
     "execution_count": 46,
     "metadata": {},
     "output_type": "execute_result"
    }
   ],
   "source": [
    "CRPtoDCM(q)"
   ]
  },
  {
   "cell_type": "code",
   "execution_count": 90,
   "metadata": {
    "collapsed": true
   },
   "outputs": [],
   "source": [
    "def DCMtoCRP(R):\n",
    "    trace = R.trace()\n",
    "    zeta = trace + 1\n",
    "    return (1/zeta)* np.array([[R[1,2] - R[2,1]],\n",
    "                               [R[2,0] - R[0,2]],\n",
    "                               [R[0,1] - R[1,0]]])"
   ]
  },
  {
   "cell_type": "code",
   "execution_count": 48,
   "metadata": {
    "collapsed": true
   },
   "outputs": [],
   "source": [
    "R = np.array([[ 0.333333,  0.871795, -0.358974],\n",
    "              [-0.666667,  0.487179,  0.564103],\n",
    "              [ 0.666667, 0.0512821,   0.74359]]).T"
   ]
  },
  {
   "cell_type": "code",
   "execution_count": 49,
   "metadata": {},
   "outputs": [
    {
     "data": {
      "text/plain": [
       "array([[-0.2000002 ],\n",
       "       [-0.40000008],\n",
       "       [-0.60000031]])"
      ]
     },
     "execution_count": 49,
     "metadata": {},
     "output_type": "execute_result"
    }
   ],
   "source": [
    "DCMtoCRP(R)"
   ]
  },
  {
   "cell_type": "code",
   "execution_count": 50,
   "metadata": {
    "collapsed": true
   },
   "outputs": [],
   "source": [
    "RFN = CRPtoDCM([ .1, .2, .3])\n",
    "RBN = CRPtoDCM([-.3, .3, .1])"
   ]
  },
  {
   "cell_type": "code",
   "execution_count": 51,
   "metadata": {
    "collapsed": true
   },
   "outputs": [],
   "source": [
    "RFB = np.dot(RFN, np.linalg.inv(RBN))"
   ]
  },
  {
   "cell_type": "code",
   "execution_count": 52,
   "metadata": {},
   "outputs": [
    {
     "data": {
      "text/plain": [
       "array([[ 0.31141592],\n",
       "       [-0.18873692],\n",
       "       [ 0.27366854]])"
      ]
     },
     "execution_count": 52,
     "metadata": {},
     "output_type": "execute_result"
    }
   ],
   "source": [
    "DCMtoCRP(RFB)"
   ]
  },
  {
   "cell_type": "markdown",
   "metadata": {},
   "source": [
    "# Quiz: 2.9 "
   ]
  },
  {
   "cell_type": "code",
   "execution_count": 53,
   "metadata": {
    "collapsed": true
   },
   "outputs": [],
   "source": [
    "q1, q2, q3 = symbols('q1:4')\n",
    "R1 = rot_axis2(-q1)\n",
    "R2 = rot_axis3(-q2)\n",
    "R3 = rot_axis2(-q3)"
   ]
  },
  {
   "cell_type": "code",
   "execution_count": 54,
   "metadata": {},
   "outputs": [
    {
     "data": {
      "text/plain": [
       "Matrix([\n",
       "[cos(q3), 0, -sin(q3)],\n",
       "[      0, 1,        0],\n",
       "[sin(q3), 0,  cos(q3)]])"
      ]
     },
     "execution_count": 54,
     "metadata": {},
     "output_type": "execute_result"
    }
   ],
   "source": [
    "(R3).T"
   ]
  },
  {
   "cell_type": "code",
   "execution_count": 55,
   "metadata": {},
   "outputs": [
    {
     "data": {
      "text/plain": [
       "Matrix([\n",
       "[-sin(q1)*sin(q3) + cos(q1)*cos(q2)*cos(q3), sin(q2)*cos(q3), -sin(q1)*cos(q2)*cos(q3) - sin(q3)*cos(q1)],\n",
       "[                          -sin(q2)*cos(q1),         cos(q2),                            sin(q1)*sin(q2)],\n",
       "[ sin(q1)*cos(q3) + sin(q3)*cos(q1)*cos(q2), sin(q2)*sin(q3), -sin(q1)*sin(q3)*cos(q2) + cos(q1)*cos(q3)]])"
      ]
     },
     "execution_count": 55,
     "metadata": {},
     "output_type": "execute_result"
    }
   ],
   "source": [
    "(R1 * R2 * R3).T"
   ]
  },
  {
   "cell_type": "code",
   "execution_count": 56,
   "metadata": {
    "collapsed": true
   },
   "outputs": [],
   "source": [
    "BN = Matrix([[sin(q2) * cos(q3), -sin(q3), 0],\n",
    "             [          cos(q2),        0, 1],\n",
    "             [sin(q2) * sin(q3),  cos(q3), 0]])"
   ]
  },
  {
   "cell_type": "code",
   "execution_count": 57,
   "metadata": {
    "collapsed": true
   },
   "outputs": [],
   "source": [
    "BN_adj =  Matrix([[-cos(q3),  sin(q2) * sin(q3), cos(q2) * cos(q3)],\n",
    "                  [       0,                  0,          -sin(q2)],\n",
    "                  [-sin(q3), -sin(q2) * cos(q3), sin(q3) * cos(q2)]]).T\n",
    "\n",
    "BN_det = -sin(q2)\n",
    "NB = (1/BN_det) * BN_adj "
   ]
  },
  {
   "cell_type": "code",
   "execution_count": 58,
   "metadata": {},
   "outputs": [
    {
     "data": {
      "text/plain": [
       "Matrix([\n",
       "[         cos(q3)/sin(q2), 0,          sin(q3)/sin(q2)],\n",
       "[                -sin(q3), 0,                  cos(q3)],\n",
       "[-cos(q2)*cos(q3)/sin(q2), 1, -sin(q3)*cos(q2)/sin(q2)]])"
      ]
     },
     "execution_count": 58,
     "metadata": {},
     "output_type": "execute_result"
    }
   ],
   "source": [
    "NB"
   ]
  },
  {
   "cell_type": "code",
   "execution_count": 59,
   "metadata": {
    "collapsed": true
   },
   "outputs": [],
   "source": [
    "# 10 = 0.5 * 20\n",
    "def rot(y, t):\n",
    "    q1, q2, q3 = y\n",
    "    dydt =  [np.deg2rad(20) * (                  (np.sin(q3) / np.cos(q2)) * 0.01  +      (np.cos(q3)/np.cos(q2)) * np.cos(0.1 * t)),\n",
    "             np.deg2rad(20) * (                               (np.cos(q3)) * 0.01  +                (-np.sin(q3)) * np.cos(0.1 * t)),\n",
    "             np.deg2rad(20) * (np.sin(0.1 * t) + (np.sin(q3) * np.tan(q2)) * 0.01  +    (np.cos(q3) * np.tan(q2)) * np.cos(0.1 * t))]\n",
    "    return dydt"
   ]
  },
  {
   "cell_type": "code",
   "execution_count": 60,
   "metadata": {
    "collapsed": true
   },
   "outputs": [],
   "source": [
    "y0 = np.deg2rad([40, 30, 80])\n",
    "#y0 = [40, 30, 80]"
   ]
  },
  {
   "cell_type": "code",
   "execution_count": 61,
   "metadata": {
    "collapsed": true
   },
   "outputs": [],
   "source": [
    "t = np.linspace(0, 60, 100)"
   ]
  },
  {
   "cell_type": "code",
   "execution_count": 62,
   "metadata": {
    "collapsed": true
   },
   "outputs": [],
   "source": [
    "sol = odeint(rot, y0, t)"
   ]
  },
  {
   "cell_type": "code",
   "execution_count": 63,
   "metadata": {},
   "outputs": [
    {
     "name": "stderr",
     "output_type": "stream",
     "text": [
      "/usr/lib/python2.7/dist-packages/matplotlib/axes/_axes.py:519: UserWarning: No labelled objects found. Use label='...' kwarg on individual plots.\n",
      "  warnings.warn(\"No labelled objects found. \"\n"
     ]
    },
    {
     "data": {
      "image/png": "[encoded data removed]",
      "text/plain": [
       "<matplotlib.figure.Figure at 0x7f93664da690>"
      ]
     },
     "metadata": {},
     "output_type": "display_data"
    }
   ],
   "source": [
    "plt.plot(t, sol[:,0], 'b', t, sol[:,1], 'y', t, sol[:,2], 'g')\n",
    "plt.grid(true)\n",
    "plt.legend(loc='best')"
   ]
  },
  {
   "cell_type": "markdown",
   "metadata": {},
   "source": [
    "# Quiz: 2.13 "
   ]
  },
  {
   "cell_type": "code",
   "execution_count": 64,
   "metadata": {
    "collapsed": true
   },
   "outputs": [],
   "source": [
    "# 10 = 0.5 * 20\n",
    "def rot(y, t):\n",
    "    q1, q2, q3 = y\n",
    "    dydt =  [np.deg2rad(3/2) * (   (1 + q1**2) * np.sin(0.1 * t) + (q1 * q2 - q3) * 0.01  + (q1 * q3 + q2) * np.cos(0.1 * t)),\n",
    "             np.deg2rad(3/2) * ((q2 * q1 + q3) * np.sin(0.1 * t) +    (1 + q2**2) * 0.01  + (q2 * q3 - q1) * np.cos(0.1 * t)),\n",
    "             np.deg2rad(3/2) * ((q3 * q1 - q2) * np.sin(0.1 * t) + (q3 * q2 + q1) * 0.01  +    (1 + q3**2) * np.cos(0.1 * t))]\n",
    "    return dydt"
   ]
  },
  {
   "cell_type": "code",
   "execution_count": 65,
   "metadata": {
    "collapsed": true
   },
   "outputs": [],
   "source": [
    "y0 = [0.4, 0.2, -0.1]"
   ]
  },
  {
   "cell_type": "code",
   "execution_count": 66,
   "metadata": {
    "collapsed": true
   },
   "outputs": [],
   "source": [
    "t = np.linspace(0, 60, 300)"
   ]
  },
  {
   "cell_type": "code",
   "execution_count": 67,
   "metadata": {
    "collapsed": true
   },
   "outputs": [],
   "source": [
    "sol = odeint(rot, y0, t)"
   ]
  },
  {
   "cell_type": "code",
   "execution_count": 68,
   "metadata": {},
   "outputs": [
    {
     "data": {
      "image/png": "[encoded data removed]",
      "text/plain": [
       "<matplotlib.figure.Figure at 0x7f93664e9450>"
      ]
     },
     "metadata": {},
     "output_type": "display_data"
    }
   ],
   "source": [
    "plt.plot(t, sol[:,0], t, sol[:,1], t, sol[:,2])\n",
    "plt.grid(true)"
   ]
  },
  {
   "cell_type": "code",
   "execution_count": 69,
   "metadata": {
    "collapsed": true
   },
   "outputs": [],
   "source": [
    "# linearizing sin, cos, tan\n",
    "t = np.arange(-.57, .57, 0.01)"
   ]
  },
  {
   "cell_type": "code",
   "execution_count": 70,
   "metadata": {},
   "outputs": [
    {
     "data": {
      "text/plain": [
       "[<matplotlib.lines.Line2D at 0x7f9366867cd0>,\n",
       " <matplotlib.lines.Line2D at 0x7f9366867ed0>]"
      ]
     },
     "execution_count": 70,
     "metadata": {},
     "output_type": "execute_result"
    },
    {
     "data": {
      "image/png": "[encoded data removed]",
      "text/plain": [
       "<matplotlib.figure.Figure at 0x7f9366946e50>"
      ]
     },
     "metadata": {},
     "output_type": "display_data"
    }
   ],
   "source": [
    "plt.plot(t, np.sin(t), 'r', t, t, 'b')"
   ]
  },
  {
   "cell_type": "code",
   "execution_count": 71,
   "metadata": {},
   "outputs": [
    {
     "data": {
      "text/plain": [
       "-1.7399554400025274"
      ]
     },
     "execution_count": 71,
     "metadata": {},
     "output_type": "execute_result"
    }
   ],
   "source": [
    "np.rad2deg(np.sin(0.57) - 0.57)"
   ]
  },
  {
   "cell_type": "code",
   "execution_count": 72,
   "metadata": {},
   "outputs": [
    {
     "data": {
      "text/plain": [
       "32.658594322456921"
      ]
     },
     "execution_count": 72,
     "metadata": {},
     "output_type": "execute_result"
    }
   ],
   "source": [
    "np.rad2deg(0.57)"
   ]
  },
  {
   "cell_type": "code",
   "execution_count": 73,
   "metadata": {},
   "outputs": [
    {
     "data": {
      "text/plain": [
       "[<matplotlib.lines.Line2D at 0x7f93667add50>,\n",
       " <matplotlib.lines.Line2D at 0x7f93667adf50>]"
      ]
     },
     "execution_count": 73,
     "metadata": {},
     "output_type": "execute_result"
    },
    {
     "data": {
      "image/png": "[encoded data removed]",
      "text/plain": [
       "<matplotlib.figure.Figure at 0x7f93668a27d0>"
      ]
     },
     "metadata": {},
     "output_type": "display_data"
    }
   ],
   "source": [
    "t = np.arange(-.57, .57, 0.01)\n",
    "plt.plot(t, np.cos(t), 'r', t, np.ones_like(t), 'b')"
   ]
  },
  {
   "cell_type": "markdown",
   "metadata": {},
   "source": [
    "# Quiz 3.17"
   ]
  },
  {
   "cell_type": "code",
   "execution_count": 74,
   "metadata": {
    "collapsed": true
   },
   "outputs": [],
   "source": [
    "def toShadow(v):\n",
    "    v1 = v[0]\n",
    "    v2 = v[1]\n",
    "    v3 = v[2]\n",
    "    v_norm = np.linalg.norm(v)\n",
    "    return np.array([v1, v2, v3]) * (-1/v_norm**2)"
   ]
  },
  {
   "cell_type": "code",
   "execution_count": 75,
   "metadata": {},
   "outputs": [
    {
     "data": {
      "text/plain": [
       "array([-0.71428571, -1.42857143, -2.14285714])"
      ]
     },
     "execution_count": 75,
     "metadata": {},
     "output_type": "execute_result"
    }
   ],
   "source": [
    "toShadow([0.1, 0.2, 0.3])"
   ]
  },
  {
   "cell_type": "markdown",
   "metadata": {},
   "source": [
    "# Quiz 3.18"
   ]
  },
  {
   "cell_type": "code",
   "execution_count": 76,
   "metadata": {
    "collapsed": true
   },
   "outputs": [],
   "source": [
    "def MRPtoDCM(v):\n",
    "    v_norm = np.linalg.norm(v)\n",
    "    return np.eye(3) + (1/(1 + v_norm**2))**2 * (8 * skew(v).dot(skew(v)) - 4 * (1 - v_norm**2) * skew(v))"
   ]
  },
  {
   "cell_type": "code",
   "execution_count": 77,
   "metadata": {},
   "outputs": [
    {
     "data": {
      "text/plain": [
       "array([[ 0.19975377,  0.91720529, -0.34472145],\n",
       "       [-0.67097568,  0.38442598,  0.63404124],\n",
       "       [ 0.71406587,  0.10464758,  0.69221299]])"
      ]
     },
     "execution_count": 77,
     "metadata": {},
     "output_type": "execute_result"
    }
   ],
   "source": [
    "MRPtoDCM([0.1, 0.2, 0.3])"
   ]
  },
  {
   "cell_type": "code",
   "execution_count": 78,
   "metadata": {
    "collapsed": true
   },
   "outputs": [],
   "source": [
    "def VectorFromSkew(w):\n",
    "    return np.array([w[2, 1], w[0, 2], w[1, 0]])\n",
    "def DCMtoMRP(R):\n",
    "    zeta = np.sqrt(R.trace() + 1)\n",
    "    return VectorFromSkew((R.T - R) / (zeta * (zeta + 2)))"
   ]
  },
  {
   "cell_type": "code",
   "execution_count": 79,
   "metadata": {
    "collapsed": true
   },
   "outputs": [],
   "source": [
    "R = np.array([[ 0.763314, -0.568047, -0.307692],\n",
    "              [0.0946746, -0.372781,  0.923077],\n",
    "              [-0.639053, -0.733728, -0.230769]])"
   ]
  },
  {
   "cell_type": "code",
   "execution_count": 80,
   "metadata": {
    "collapsed": true
   },
   "outputs": [],
   "source": [
    "# R = np.array([[ 0.19975377,  0.91720529, -0.34472145],\n",
    "#               [-0.67097568,  0.38442598,  0.63404124],\n",
    "#               [ 0.71406587,  0.10464758,  0.69221299]])"
   ]
  },
  {
   "cell_type": "code",
   "execution_count": 81,
   "metadata": {},
   "outputs": [
    {
     "data": {
      "text/plain": [
       "array([ 0.5, -0.1, -0.2])"
      ]
     },
     "execution_count": 81,
     "metadata": {},
     "output_type": "execute_result"
    }
   ],
   "source": [
    "np.round(DCMtoMRP(R), 2)"
   ]
  },
  {
   "cell_type": "markdown",
   "metadata": {},
   "source": [
    "# Quiz 3.19 "
   ]
  },
  {
   "cell_type": "code",
   "execution_count": 82,
   "metadata": {
    "collapsed": true
   },
   "outputs": [],
   "source": [
    "RBN = MRPtoDCM([0.1, 0.2, 0.3])\n",
    "RRB = MRPtoDCM([-.1, 0.3, 0.1])"
   ]
  },
  {
   "cell_type": "code",
   "execution_count": 83,
   "metadata": {
    "collapsed": true
   },
   "outputs": [],
   "source": [
    "RRN = np.dot(RRB, RBN)"
   ]
  },
  {
   "cell_type": "code",
   "execution_count": 84,
   "metadata": {},
   "outputs": [
    {
     "data": {
      "text/plain": [
       "array([-0.16015899,  0.41617957,  0.52957681])"
      ]
     },
     "execution_count": 84,
     "metadata": {},
     "output_type": "execute_result"
    }
   ],
   "source": [
    "DCMtoMRP(RRN)"
   ]
  },
  {
   "cell_type": "code",
   "execution_count": 85,
   "metadata": {
    "collapsed": true
   },
   "outputs": [],
   "source": [
    "RBN = MRPtoDCM([0.1, 0.2, 0.3])\n",
    "RRN = MRPtoDCM([0.5, 0.3, 0.1])"
   ]
  },
  {
   "cell_type": "code",
   "execution_count": 86,
   "metadata": {
    "collapsed": true
   },
   "outputs": [],
   "source": [
    "RBR = np.dot(RBN, RRN.T)"
   ]
  },
  {
   "cell_type": "code",
   "execution_count": 87,
   "metadata": {},
   "outputs": [
    {
     "data": {
      "text/plain": [
       "array([-0.37998495,  0.11437171, -0.02332581])"
      ]
     },
     "execution_count": 87,
     "metadata": {},
     "output_type": "execute_result"
    }
   ],
   "source": [
    "DCMtoMRP(RBR)"
   ]
  },
  {
   "cell_type": "markdown",
   "metadata": {},
   "source": [
    "# Quiz 3.20 "
   ]
  },
  {
   "cell_type": "code",
   "execution_count": 88,
   "metadata": {
    "collapsed": true
   },
   "outputs": [],
   "source": [
    "# 10 = 0.5 * 20\n",
    "def rot(y, t):\n",
    "    q1, q2, q3 = y\n",
    "    q_norm = np.linalg.norm(y)\n",
    "    if q_norm > 1.0:\n",
    "        q1, q2, q3 = -q1 / q_norm**2, -q2 / q_norm**2, -q3 / q_norm**2\n",
    "    dydt =  [np.deg2rad(5) * ((1 - q_norm**2 + 2 * q1**2) * np.sin(0.1 * t) +          2 * (q1 * q2 - q3) * 0.01  +          2 * (q1 * q3 + q2) * np.cos(0.1 * t)),\n",
    "             np.deg2rad(5) * (       (2 * (q2 * q1 + q3)) * np.sin(0.1 * t) + (1 - q_norm**2 + 2 * q2**2) * 0.01  +          2 * (q2 * q3 - q1) * np.cos(0.1 * t)),\n",
    "             np.deg2rad(5) * (       (2 * (q3 * q1 - q2)) * np.sin(0.1 * t) +          2 * (q3 * q2 + q1) * 0.01  + (1 - q_norm**2 + 2 * q3**2) * np.cos(0.1 * t))]\n",
    "    return dydt"
   ]
  },
  {
   "cell_type": "code",
   "execution_count": 89,
   "metadata": {
    "collapsed": true
   },
   "outputs": [],
   "source": [
    "y0 = [0.4, 0.2, -0.1]"
   ]
  },
  {
   "cell_type": "code",
   "execution_count": 90,
   "metadata": {
    "collapsed": true
   },
   "outputs": [],
   "source": [
    "t = np.linspace(0, 60, 300)"
   ]
  },
  {
   "cell_type": "code",
   "execution_count": 91,
   "metadata": {
    "collapsed": true
   },
   "outputs": [],
   "source": [
    "sol = odeint(rot, y0, t)"
   ]
  },
  {
   "cell_type": "code",
   "execution_count": 93,
   "metadata": {
    "collapsed": true
   },
   "outputs": [],
   "source": [
    "q1, q2, q3 = y0\n",
    "\n",
    "q_norm = np.linalg.norm(y0)\n"
   ]
  },
  {
   "cell_type": "code",
   "execution_count": 94,
   "metadata": {
    "collapsed": true
   },
   "outputs": [],
   "source": [
    "t0 = 0\n",
    "t1 = 60\n",
    "dt = 0.2\n",
    "tspan = np.arange(t0, t1, dt)"
   ]
  },
  {
   "cell_type": "code",
   "execution_count": 95,
   "metadata": {
    "collapsed": true
   },
   "outputs": [],
   "source": [
    "y0 = np.array([[0.4],[0.2],[-0.1]])\n",
    "y = y0.copy()\n",
    "ys = y0.copy()\n",
    "for t in tspan:\n",
    "    q1, q2, q3 = y[0, 0], y[1, 0], y[2, 0]\n",
    "    q_norm = np.linalg.norm(y)\n",
    "    if q_norm > 1:\n",
    "        y = -y / q_norm\n",
    "    dydt =  np.array([[np.deg2rad(5) * ((1 - q_norm**2 + 2 * q1**2) * np.sin(0.1 * t) +          2 * (q1 * q2 - q3) * 0.01  +          2 * (q1 * q3 + q2) * np.cos(0.1 * t))],\n",
    "                      [np.deg2rad(5) * (       (2 * (q2 * q1 + q3)) * np.sin(0.1 * t) + (1 - q_norm**2 + 2 * q2**2) * 0.01  +          2 * (q2 * q3 - q1) * np.cos(0.1 * t))],\n",
    "                      [np.deg2rad(5) * (       (2 * (q3 * q1 - q2)) * np.sin(0.1 * t) +          2 * (q3 * q2 + q1) * 0.01  + (1 - q_norm**2 + 2 * q3**2) * np.cos(0.1 * t))]])\n",
    "    y += dydt * dt\n",
    "    ys = np.hstack((ys, y))"
   ]
  },
  {
   "cell_type": "code",
   "execution_count": 96,
   "metadata": {},
   "outputs": [
    {
     "data": {
      "text/plain": [
       "[<matplotlib.lines.Line2D at 0x7f9364b61610>,\n",
       " <matplotlib.lines.Line2D at 0x7f936909e0d0>,\n",
       " <matplotlib.lines.Line2D at 0x7f9364b61d10>]"
      ]
     },
     "execution_count": 96,
     "metadata": {},
     "output_type": "execute_result"
    },
    {
     "data": {
      "image/png": "[encoded data removed]",
      "text/plain": [
       "<matplotlib.figure.Figure at 0x7f9364c980d0>"
      ]
     },
     "metadata": {},
     "output_type": "display_data"
    }
   ],
   "source": [
    "plt.plot(tspan, ys[0, 1:], 'ob', tspan, ys[1, 1:], 'oy', tspan, ys[2, 1:], 'og')"
   ]
  },
  {
   "cell_type": "markdown",
   "metadata": {},
   "source": [
    "# TRIAD METHOD "
   ]
  },
  {
   "cell_type": "code",
   "execution_count": 125,
   "metadata": {
    "collapsed": true
   },
   "outputs": [],
   "source": [
    "Bv1 = np.array([[ 0.8273,  0.5541, -0.0920]], dtype=np.float64) ## more accurate\n",
    "Bv2 = np.array([[-0.8285,  0.5522, -0.0955]], dtype=np.float64)\n",
    "Nv1 = np.array([[-0.1517, -0.9669,  0.2050]], dtype=np.float64)\n",
    "Nv2 = np.array([[-0.8393,  0.4494, -0.3044]], dtype=np.float64)"
   ]
  },
  {
   "cell_type": "code",
   "execution_count": 126,
   "metadata": {
    "collapsed": true
   },
   "outputs": [],
   "source": [
    "def TRIADframe(s, m):\n",
    "    # assuem the first vector is more accurate\n",
    "    t1 = s.copy()\n",
    "    sxm = np.cross(s, m)\n",
    "    t2 = sxm / np.linalg.norm(sxm)\n",
    "    t3 = np.cross(t1, t2)\n",
    "    return np.hstack((t1.T, t2.T, t3.T))"
   ]
  },
  {
   "cell_type": "code",
   "execution_count": 127,
   "metadata": {
    "collapsed": true
   },
   "outputs": [],
   "source": [
    "BT = TRIADframe(Bv1, Bv2)\n",
    "NT = TRIADframe(Nv1, Nv2)"
   ]
  },
  {
   "cell_type": "code",
   "execution_count": 128,
   "metadata": {
    "collapsed": true
   },
   "outputs": [],
   "source": [
    "BN = np.dot(BT, np.linalg.inv(NT))"
   ]
  },
  {
   "cell_type": "code",
   "execution_count": 180,
   "metadata": {
    "collapsed": true
   },
   "outputs": [],
   "source": [
    "def DCMtoPRV(R):\n",
    "    theta = np.arccos(0.5 * (R.trace() - 1))\n",
    "    e     = (1 / (2 * np.sin(theta))) * np.array([[R[1, 2] - R[2, 1]], [R[2, 0] - R[0, 2]], [R[0, 1] - R[1, 0]]], dtype=np.float64)\n",
    "    return theta, e"
   ]
  },
  {
   "cell_type": "code",
   "execution_count": 181,
   "metadata": {
    "collapsed": true
   },
   "outputs": [],
   "source": [
    "BNe = np.array([[0.969846,-0.200706,-0.138258],\n",
    "                [ 0.17101,  0.96461,-0.200706],\n",
    "                [0.173648,  0.17101, 0.969846]])\n",
    "BN  = np.array([[0.963592,-0.223042,-0.147454],\n",
    "                [0.187303, 0.956645,-0.223042],\n",
    "                [0.190809, 0.187303, 0.963592]])"
   ]
  },
  {
   "cell_type": "code",
   "execution_count": 182,
   "metadata": {
    "collapsed": true
   },
   "outputs": [],
   "source": [
    "theta1 = DCMtoPRV(BNe)[0]\n",
    "theta2 = DCMtoPRV(BN)[0]"
   ]
  },
  {
   "cell_type": "code",
   "execution_count": 183,
   "metadata": {},
   "outputs": [
    {
     "data": {
      "text/plain": [
       "1.8284522666836571"
      ]
     },
     "execution_count": 183,
     "metadata": {},
     "output_type": "execute_result"
    }
   ],
   "source": [
    "np.rad2deg(theta2 - theta1)"
   ]
  },
  {
   "cell_type": "markdown",
   "metadata": {},
   "source": [
    "# Devenport's q-Method "
   ]
  },
  {
   "cell_type": "code",
   "execution_count": 2,
   "metadata": {
    "collapsed": true
   },
   "outputs": [],
   "source": [
    "Bv1 = np.array([[ 0.8273,  0.5541, -0.0920]], dtype=np.float64) ## more accurate\n",
    "Bv2 = np.array([[-0.8285,  0.5522, -0.0955]], dtype=np.float64)\n",
    "Nv1 = np.array([[-0.1517, -0.9669,  0.2050]], dtype=np.float64)\n",
    "Nv2 = np.array([[-0.8393,  0.4494, -0.3044]], dtype=np.float64)"
   ]
  },
  {
   "cell_type": "code",
   "execution_count": 3,
   "metadata": {
    "collapsed": true
   },
   "outputs": [],
   "source": [
    "def Bmatrix(Bv, Nv, w):\n",
    "    B = np.zeros((3, 3))\n",
    "    for i in range(len(Bv)):\n",
    "        B += w[i] * np.outer(Bv[i], Nv[i])\n",
    "    return B"
   ]
  },
  {
   "cell_type": "code",
   "execution_count": 31,
   "metadata": {
    "collapsed": true
   },
   "outputs": [],
   "source": [
    "B = Bmatrix([Bv1, Bv2], [Nv1, Nv2], [1, 1])\n",
    "def Kmatrix(B):\n",
    "    K = np.zeros((4, 4))\n",
    "    sigma = B.trace()\n",
    "    Z = np.array([B[1, 2] - B[2, 1],\n",
    "                  B[2, 0] - B[0, 2],\n",
    "                  B[0, 1] - B[1, 0]])\n",
    "    S = B + B.T\n",
    "    K[0, 0]   = sigma\n",
    "    K[0, 1:]  = Z.T\n",
    "    K[1:, 0]  = Z\n",
    "    K[1:, 1:] = (S - sigma * np.eye(3))[:, :] \n",
    "    return K\n",
    "def Kcoeff(B):\n",
    "    sigma = B.trace()\n",
    "    Z = np.array([B[1, 2] - B[2, 1],\n",
    "                  B[2, 0] - B[0, 2],\n",
    "                  B[0, 1] - B[1, 0]])\n",
    "    S = B + B.T\n",
    "    return sigma, Z, S"
   ]
  },
  {
   "cell_type": "code",
   "execution_count": 208,
   "metadata": {},
   "outputs": [
    {
     "data": {
      "text/plain": [
       "array([ 0.02640542, -0.84099401,  0.50198046, -0.20011858])"
      ]
     },
     "execution_count": 208,
     "metadata": {},
     "output_type": "execute_result"
    }
   ],
   "source": [
    "np.linalg.eig(Kmatrix(B))[1][:, 3]"
   ]
  },
  {
   "cell_type": "code",
   "execution_count": 225,
   "metadata": {},
   "outputs": [
    {
     "data": {
      "text/plain": [
       "array([[ 0.41593634, -0.85489355,  0.31008704],\n",
       "       [-0.83375669, -0.49463674, -0.24532484],\n",
       "       [ 0.36310707, -0.15649763, -0.91851061]])"
      ]
     },
     "execution_count": 225,
     "metadata": {},
     "output_type": "execute_result"
    }
   ],
   "source": [
    "eigval, eigvec = np.linalg.eig(Kmatrix(B))\n",
    "index = np.argmax(eigval)\n",
    "Q = eigvec[:, index]\n",
    "QtoDCM(Q)"
   ]
  },
  {
   "cell_type": "markdown",
   "metadata": {
    "collapsed": true
   },
   "source": [
    "# QUEST "
   ]
  },
  {
   "cell_type": "code",
   "execution_count": 26,
   "metadata": {},
   "outputs": [],
   "source": [
    "s = symbols('s')\n",
    "K = Matrix(Kmatrix(B))\n",
    "f = det(K - s * eye(4))\n",
    "dfds = diff(f, s)\n",
    "lam = 2."
   ]
  },
  {
   "cell_type": "code",
   "execution_count": 27,
   "metadata": {},
   "outputs": [],
   "source": [
    "for i in range(10):\n",
    "    lam -= (f / dfds).evalf(subs={s:lam})"
   ]
  },
  {
   "cell_type": "code",
   "execution_count": 29,
   "metadata": {},
   "outputs": [],
   "source": [
    "lam = np.float64(lam)"
   ]
  },
  {
   "cell_type": "code",
   "execution_count": 32,
   "metadata": {
    "collapsed": true
   },
   "outputs": [],
   "source": [
    "sigma, Z, S = Kcoeff(B)"
   ]
  },
  {
   "cell_type": "code",
   "execution_count": 34,
   "metadata": {},
   "outputs": [
    {
     "data": {
      "text/plain": [
       "array([-31.84929092,  19.01050604,  -7.5786924 ])"
      ]
     },
     "execution_count": 34,
     "metadata": {},
     "output_type": "execute_result"
    }
   ],
   "source": [
    "q = np.dot(np.linalg.inv((sigma + lam) * np.eye(3) - S), Z)"
   ]
  },
  {
   "cell_type": "code",
   "execution_count": 55,
   "metadata": {},
   "outputs": [],
   "source": [
    "beta = (1 / np.sqrt(1 + np.dot(q, q))) \n",
    "* np.concatenate((np.ones((1,)), q))"
   ]
  },
  {
   "cell_type": "code",
   "execution_count": 57,
   "metadata": {},
   "outputs": [
    {
     "data": {
      "text/plain": [
       "array([[ 0.41593634, -0.85489355,  0.31008704],\n",
       "       [-0.83375669, -0.49463674, -0.24532484],\n",
       "       [ 0.36310707, -0.15649763, -0.91851061]])"
      ]
     },
     "execution_count": 57,
     "metadata": {},
     "output_type": "execute_result"
    }
   ],
   "source": [
    "QtoDCM(beta)"
   ]
  },
  {
   "cell_type": "markdown",
   "metadata": {},
   "source": [
    "# OLAE "
   ]
  },
  {
   "cell_type": "code",
   "execution_count": 59,
   "metadata": {
    "collapsed": true
   },
   "outputs": [],
   "source": [
    "def _s(Bv, Nv):\n",
    "    return Bv + Nv\n",
    "def _d(Bv, Nv):\n",
    "    return Bv - Nv"
   ]
  },
  {
   "cell_type": "code",
   "execution_count": 86,
   "metadata": {},
   "outputs": [],
   "source": [
    "s1 = skew(_s(Bv1, Nv1))\n",
    "d1 = _d(Bv1, Nv1)\n",
    "s2 = skew(_s(Bv2, Nv2))\n",
    "d2 = _d(Bv2, Nv2)\n",
    "s = np.vstack((s1, s2))\n",
    "d = np.vstack((d1, d2)).reshape((6, 1))"
   ]
  },
  {
   "cell_type": "code",
   "execution_count": 87,
   "metadata": {
    "collapsed": true
   },
   "outputs": [],
   "source": [
    "W = np.eye(6)"
   ]
  },
  {
   "cell_type": "code",
   "execution_count": 110,
   "metadata": {},
   "outputs": [],
   "source": [
    "q = np.linalg.multi_dot((np.linalg.inv(np.linalg.multi_dot((s.T, W, s))), s.T, W, d)).reshape((3,))"
   ]
  },
  {
   "cell_type": "code",
   "execution_count": 111,
   "metadata": {},
   "outputs": [],
   "source": [
    "beta = (1 / np.sqrt(1 + np.dot(q, q))) * np.concatenate((np.ones((1,)), q))"
   ]
  },
  {
   "cell_type": "code",
   "execution_count": 114,
   "metadata": {},
   "outputs": [
    {
     "data": {
      "text/plain": [
       "array([[ 0.41620817, -0.85478402,  0.31002425],\n",
       "       [-0.83364731, -0.49486317, -0.24523989],\n",
       "       [ 0.36304672, -0.15638004, -0.9185545 ]])"
      ]
     },
     "execution_count": 114,
     "metadata": {},
     "output_type": "execute_result"
    }
   ],
   "source": [
    "QtoDCM(beta)"
   ]
  },
  {
   "cell_type": "code",
   "execution_count": 117,
   "metadata": {
    "collapsed": true
   },
   "outputs": [],
   "source": [
    "def CRPtoQ(v):\n",
    "    beta = (1 / np.sqrt(1 + np.dot(v, v))) * np.concatenate((np.ones((1,)), v), axis=0)\n",
    "    return beta"
   ]
  },
  {
   "cell_type": "code",
   "execution_count": 122,
   "metadata": {
    "collapsed": true
   },
   "outputs": [],
   "source": [
    "def CRPtoDCM(q):\n",
    "    q_norm2 = np.dot(q, q)\n",
    "    R = (1 / (1 + q_norm2)) * ((1 - q_norm2) * np.eye(3) + 2 * np.outer(q, q) - 2 * skew(q))\n",
    "    return R"
   ]
  },
  {
   "cell_type": "code",
   "execution_count": null,
   "metadata": {
    "collapsed": true
   },
   "outputs": [],
   "source": []
  }
 ],
 "metadata": {
  "kernelspec": {
   "display_name": "Python 2",
   "language": "python",
   "name": "python2"
  },
  "language_info": {
   "codemirror_mode": {
    "name": "ipython",
    "version": 2
   },
   "file_extension": ".py",
   "mimetype": "text/x-python",
   "name": "python",
   "nbconvert_exporter": "python",
   "pygments_lexer": "ipython2",
   "version": "2.7.12"
  },
  "widgets": {
   "state": {},
   "version": "1.1.2"
  }
 },
 "nbformat": 4,
 "nbformat_minor": 2
}
